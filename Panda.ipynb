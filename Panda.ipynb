{
 "cells": [
  {
   "cell_type": "markdown",
   "metadata": {},
   "source": [
    "#Data Frame"
   ]
  },
  {
   "cell_type": "markdown",
   "metadata": {},
   "source": [
    "##Data Frame Creation"
   ]
  },
  {
   "cell_type": "code",
   "execution_count": 2,
   "metadata": {},
   "outputs": [],
   "source": [
    "import numpy as np\n",
    "import pandas as pd"
   ]
  },
  {
   "cell_type": "code",
   "execution_count": 3,
   "metadata": {},
   "outputs": [],
   "source": [
    "dict1 = {\n",
    "    \"Name\": ['Alice', 'Bob', 'Charlie', 'Sowmik'],\n",
    "    \"Age\": [25, 30, 35, 27],\n",
    "    \"City\": ['New York', 'Los Angeles', 'Chicago', 'Chittagong']\n",
    "}        #Creating a dictionary        "
   ]
  },
  {
   "cell_type": "code",
   "execution_count": 4,
   "metadata": {},
   "outputs": [
    {
     "data": {
      "text/html": [
       "<div>\n",
       "<style scoped>\n",
       "    .dataframe tbody tr th:only-of-type {\n",
       "        vertical-align: middle;\n",
       "    }\n",
       "\n",
       "    .dataframe tbody tr th {\n",
       "        vertical-align: top;\n",
       "    }\n",
       "\n",
       "    .dataframe thead th {\n",
       "        text-align: right;\n",
       "    }\n",
       "</style>\n",
       "<table border=\"1\" class=\"dataframe\">\n",
       "  <thead>\n",
       "    <tr style=\"text-align: right;\">\n",
       "      <th></th>\n",
       "      <th>Name</th>\n",
       "      <th>Age</th>\n",
       "      <th>City</th>\n",
       "    </tr>\n",
       "  </thead>\n",
       "  <tbody>\n",
       "    <tr>\n",
       "      <th>0</th>\n",
       "      <td>Alice</td>\n",
       "      <td>25</td>\n",
       "      <td>New York</td>\n",
       "    </tr>\n",
       "    <tr>\n",
       "      <th>1</th>\n",
       "      <td>Bob</td>\n",
       "      <td>30</td>\n",
       "      <td>Los Angeles</td>\n",
       "    </tr>\n",
       "    <tr>\n",
       "      <th>2</th>\n",
       "      <td>Charlie</td>\n",
       "      <td>35</td>\n",
       "      <td>Chicago</td>\n",
       "    </tr>\n",
       "    <tr>\n",
       "      <th>3</th>\n",
       "      <td>Sowmik</td>\n",
       "      <td>27</td>\n",
       "      <td>Chittagong</td>\n",
       "    </tr>\n",
       "  </tbody>\n",
       "</table>\n",
       "</div>"
      ],
      "text/plain": [
       "      Name  Age         City\n",
       "0    Alice   25     New York\n",
       "1      Bob   30  Los Angeles\n",
       "2  Charlie   35      Chicago\n",
       "3   Sowmik   27   Chittagong"
      ]
     },
     "execution_count": 4,
     "metadata": {},
     "output_type": "execute_result"
    }
   ],
   "source": [
    "df = pd.DataFrame(dict1) #Making it a pandas dataframe\n",
    "df"
   ]
  },
  {
   "cell_type": "markdown",
   "metadata": {},
   "source": [
    "##Exporting Data Frame as .csv file"
   ]
  },
  {
   "cell_type": "code",
   "execution_count": 5,
   "metadata": {},
   "outputs": [],
   "source": [
    "df.to_csv(\"friends.csv\")  #Exporting as a csv file"
   ]
  },
  {
   "cell_type": "code",
   "execution_count": null,
   "metadata": {},
   "outputs": [],
   "source": [
    "from google.colab import files  #Downloading the csv file into local machine\n",
    "files.download(\"/content/friends.csv\")"
   ]
  },
  {
   "cell_type": "code",
   "execution_count": null,
   "metadata": {},
   "outputs": [],
   "source": [
    "from google.colab import drive  #Mounting the csv file into google drive\n",
    "drive.mount('/content/drive')\n",
    "df.to_csv(\"/content/drive/My Drive/friends.csv\", index=False)"
   ]
  },
  {
   "cell_type": "markdown",
   "metadata": {},
   "source": [
    "##Data Frame related Functions"
   ]
  },
  {
   "cell_type": "code",
   "execution_count": 6,
   "metadata": {},
   "outputs": [
    {
     "data": {
      "text/html": [
       "<div>\n",
       "<style scoped>\n",
       "    .dataframe tbody tr th:only-of-type {\n",
       "        vertical-align: middle;\n",
       "    }\n",
       "\n",
       "    .dataframe tbody tr th {\n",
       "        vertical-align: top;\n",
       "    }\n",
       "\n",
       "    .dataframe thead th {\n",
       "        text-align: right;\n",
       "    }\n",
       "</style>\n",
       "<table border=\"1\" class=\"dataframe\">\n",
       "  <thead>\n",
       "    <tr style=\"text-align: right;\">\n",
       "      <th></th>\n",
       "      <th>Name</th>\n",
       "      <th>Age</th>\n",
       "      <th>City</th>\n",
       "    </tr>\n",
       "  </thead>\n",
       "  <tbody>\n",
       "    <tr>\n",
       "      <th>0</th>\n",
       "      <td>Alice</td>\n",
       "      <td>25</td>\n",
       "      <td>New York</td>\n",
       "    </tr>\n",
       "    <tr>\n",
       "      <th>1</th>\n",
       "      <td>Bob</td>\n",
       "      <td>30</td>\n",
       "      <td>Los Angeles</td>\n",
       "    </tr>\n",
       "  </tbody>\n",
       "</table>\n",
       "</div>"
      ],
      "text/plain": [
       "    Name  Age         City\n",
       "0  Alice   25     New York\n",
       "1    Bob   30  Los Angeles"
      ]
     },
     "execution_count": 6,
     "metadata": {},
     "output_type": "execute_result"
    }
   ],
   "source": [
    "df.head(2) #Displays the first 2 rows of the dataframe"
   ]
  },
  {
   "cell_type": "code",
   "execution_count": 7,
   "metadata": {},
   "outputs": [
    {
     "data": {
      "text/html": [
       "<div>\n",
       "<style scoped>\n",
       "    .dataframe tbody tr th:only-of-type {\n",
       "        vertical-align: middle;\n",
       "    }\n",
       "\n",
       "    .dataframe tbody tr th {\n",
       "        vertical-align: top;\n",
       "    }\n",
       "\n",
       "    .dataframe thead th {\n",
       "        text-align: right;\n",
       "    }\n",
       "</style>\n",
       "<table border=\"1\" class=\"dataframe\">\n",
       "  <thead>\n",
       "    <tr style=\"text-align: right;\">\n",
       "      <th></th>\n",
       "      <th>Name</th>\n",
       "      <th>Age</th>\n",
       "      <th>City</th>\n",
       "    </tr>\n",
       "  </thead>\n",
       "  <tbody>\n",
       "    <tr>\n",
       "      <th>2</th>\n",
       "      <td>Charlie</td>\n",
       "      <td>35</td>\n",
       "      <td>Chicago</td>\n",
       "    </tr>\n",
       "    <tr>\n",
       "      <th>3</th>\n",
       "      <td>Sowmik</td>\n",
       "      <td>27</td>\n",
       "      <td>Chittagong</td>\n",
       "    </tr>\n",
       "  </tbody>\n",
       "</table>\n",
       "</div>"
      ],
      "text/plain": [
       "      Name  Age        City\n",
       "2  Charlie   35     Chicago\n",
       "3   Sowmik   27  Chittagong"
      ]
     },
     "execution_count": 7,
     "metadata": {},
     "output_type": "execute_result"
    }
   ],
   "source": [
    "df.tail(2) #Displays the last 2 rows of the dataframe"
   ]
  },
  {
   "cell_type": "code",
   "execution_count": 8,
   "metadata": {},
   "outputs": [
    {
     "data": {
      "text/html": [
       "<div>\n",
       "<style scoped>\n",
       "    .dataframe tbody tr th:only-of-type {\n",
       "        vertical-align: middle;\n",
       "    }\n",
       "\n",
       "    .dataframe tbody tr th {\n",
       "        vertical-align: top;\n",
       "    }\n",
       "\n",
       "    .dataframe thead th {\n",
       "        text-align: right;\n",
       "    }\n",
       "</style>\n",
       "<table border=\"1\" class=\"dataframe\">\n",
       "  <thead>\n",
       "    <tr style=\"text-align: right;\">\n",
       "      <th></th>\n",
       "      <th>Age</th>\n",
       "    </tr>\n",
       "  </thead>\n",
       "  <tbody>\n",
       "    <tr>\n",
       "      <th>count</th>\n",
       "      <td>4.000000</td>\n",
       "    </tr>\n",
       "    <tr>\n",
       "      <th>mean</th>\n",
       "      <td>29.250000</td>\n",
       "    </tr>\n",
       "    <tr>\n",
       "      <th>std</th>\n",
       "      <td>4.349329</td>\n",
       "    </tr>\n",
       "    <tr>\n",
       "      <th>min</th>\n",
       "      <td>25.000000</td>\n",
       "    </tr>\n",
       "    <tr>\n",
       "      <th>25%</th>\n",
       "      <td>26.500000</td>\n",
       "    </tr>\n",
       "    <tr>\n",
       "      <th>50%</th>\n",
       "      <td>28.500000</td>\n",
       "    </tr>\n",
       "    <tr>\n",
       "      <th>75%</th>\n",
       "      <td>31.250000</td>\n",
       "    </tr>\n",
       "    <tr>\n",
       "      <th>max</th>\n",
       "      <td>35.000000</td>\n",
       "    </tr>\n",
       "  </tbody>\n",
       "</table>\n",
       "</div>"
      ],
      "text/plain": [
       "             Age\n",
       "count   4.000000\n",
       "mean   29.250000\n",
       "std     4.349329\n",
       "min    25.000000\n",
       "25%    26.500000\n",
       "50%    28.500000\n",
       "75%    31.250000\n",
       "max    35.000000"
      ]
     },
     "execution_count": 8,
     "metadata": {},
     "output_type": "execute_result"
    }
   ],
   "source": [
    "df.describe() #Displays the statistical summary of the dataframe"
   ]
  },
  {
   "cell_type": "markdown",
   "metadata": {},
   "source": [
    "##Uploading a .csv file into google colab and VS Code"
   ]
  },
  {
   "cell_type": "code",
   "execution_count": null,
   "metadata": {},
   "outputs": [],
   "source": [
    "from google.colab import files #manually from local machine\n",
    "uploaded = files.upload()"
   ]
  },
  {
   "cell_type": "code",
   "execution_count": null,
   "metadata": {},
   "outputs": [],
   "source": [
    "df1 = pd.read_csv(\"Exercise_05_008.csv\")\n",
    "df1"
   ]
  },
  {
   "cell_type": "code",
   "execution_count": 12,
   "metadata": {},
   "outputs": [
    {
     "data": {
      "text/html": [
       "<div>\n",
       "<style scoped>\n",
       "    .dataframe tbody tr th:only-of-type {\n",
       "        vertical-align: middle;\n",
       "    }\n",
       "\n",
       "    .dataframe tbody tr th {\n",
       "        vertical-align: top;\n",
       "    }\n",
       "\n",
       "    .dataframe thead th {\n",
       "        text-align: right;\n",
       "    }\n",
       "</style>\n",
       "<table border=\"1\" class=\"dataframe\">\n",
       "  <thead>\n",
       "    <tr style=\"text-align: right;\">\n",
       "      <th></th>\n",
       "      <th>Activity</th>\n",
       "      <th>Duration (days)</th>\n",
       "      <th>Start Date</th>\n",
       "      <th>End Date</th>\n",
       "      <th>Date Error</th>\n",
       "      <th>Task Name</th>\n",
       "    </tr>\n",
       "  </thead>\n",
       "  <tbody>\n",
       "    <tr>\n",
       "      <th>0</th>\n",
       "      <td>Commencing of the project</td>\n",
       "      <td>1 day</td>\n",
       "      <td>2025-01-26 18:40:11.862990</td>\n",
       "      <td>2025-01-27 18:40:11.862990</td>\n",
       "      <td>False</td>\n",
       "      <td>0 - Commencing of the project</td>\n",
       "    </tr>\n",
       "    <tr>\n",
       "      <th>1</th>\n",
       "      <td>Signing of the Agreement</td>\n",
       "      <td>1.0 days</td>\n",
       "      <td>2025-07-01 00:00:00.000000</td>\n",
       "      <td>2025-07-01 00:00:00.000000</td>\n",
       "      <td>False</td>\n",
       "      <td>0 - Signing of the Agreement</td>\n",
       "    </tr>\n",
       "    <tr>\n",
       "      <th>2</th>\n",
       "      <td>Scheduling of the Project</td>\n",
       "      <td>70.0 days</td>\n",
       "      <td>2025-07-02 00:00:00.000000</td>\n",
       "      <td>2025-09-09 00:00:00.000000</td>\n",
       "      <td>False</td>\n",
       "      <td>0 - Scheduling of the Project</td>\n",
       "    </tr>\n",
       "    <tr>\n",
       "      <th>3</th>\n",
       "      <td>Mobilization of Resources, Office Setup and pr...</td>\n",
       "      <td>30.0 days</td>\n",
       "      <td>2025-09-10 00:00:00.000000</td>\n",
       "      <td>2025-10-09 00:00:00.000000</td>\n",
       "      <td>False</td>\n",
       "      <td>0 - Mobilization of Resources, Office Setup an...</td>\n",
       "    </tr>\n",
       "    <tr>\n",
       "      <th>4</th>\n",
       "      <td>Formation of Project Steering Committee</td>\n",
       "      <td>25.0 days</td>\n",
       "      <td>2025-10-10 00:00:00.000000</td>\n",
       "      <td>2025-11-03 00:00:00.000000</td>\n",
       "      <td>False</td>\n",
       "      <td>0 - Formation of Project Steering Committee</td>\n",
       "    </tr>\n",
       "    <tr>\n",
       "      <th>...</th>\n",
       "      <td>...</td>\n",
       "      <td>...</td>\n",
       "      <td>...</td>\n",
       "      <td>...</td>\n",
       "      <td>...</td>\n",
       "      <td>...</td>\n",
       "    </tr>\n",
       "    <tr>\n",
       "      <th>73</th>\n",
       "      <td>Environmental and social impact assessment</td>\n",
       "      <td>110.0 days</td>\n",
       "      <td>2033-08-23 00:00:00.000000</td>\n",
       "      <td>2033-12-12 00:00:00.000000</td>\n",
       "      <td>False</td>\n",
       "      <td>6 - Environmental and social impact assessment</td>\n",
       "    </tr>\n",
       "    <tr>\n",
       "      <th>74</th>\n",
       "      <td>Cost-benefit and efficiency evaluation</td>\n",
       "      <td>140.0 days</td>\n",
       "      <td>2033-12-13 00:00:00.000000</td>\n",
       "      <td>2034-04-30 00:00:00.000000</td>\n",
       "      <td>False</td>\n",
       "      <td>6 - Cost-benefit and efficiency evaluation</td>\n",
       "    </tr>\n",
       "    <tr>\n",
       "      <th>75</th>\n",
       "      <td>Reporting</td>\n",
       "      <td>1 day</td>\n",
       "      <td>2025-01-26 18:40:11.862990</td>\n",
       "      <td>2025-01-27 18:40:11.862990</td>\n",
       "      <td>False</td>\n",
       "      <td>6 - Reporting</td>\n",
       "    </tr>\n",
       "    <tr>\n",
       "      <th>76</th>\n",
       "      <td>Draft final report preparation</td>\n",
       "      <td>1 day</td>\n",
       "      <td>2034-05-01 00:00:00.000000</td>\n",
       "      <td>2034-10-30 00:00:00.000000</td>\n",
       "      <td>False</td>\n",
       "      <td>6 - Draft final report preparation</td>\n",
       "    </tr>\n",
       "    <tr>\n",
       "      <th>77</th>\n",
       "      <td>Final report preparation and submission</td>\n",
       "      <td>1 day</td>\n",
       "      <td>2034-11-01 00:00:00.000000</td>\n",
       "      <td>2035-06-30 00:00:00.000000</td>\n",
       "      <td>False</td>\n",
       "      <td>6 - Final report preparation and submission</td>\n",
       "    </tr>\n",
       "  </tbody>\n",
       "</table>\n",
       "<p>78 rows × 6 columns</p>\n",
       "</div>"
      ],
      "text/plain": [
       "                                             Activity Duration (days)  \\\n",
       "0                           Commencing of the project           1 day   \n",
       "1                            Signing of the Agreement        1.0 days   \n",
       "2                           Scheduling of the Project       70.0 days   \n",
       "3   Mobilization of Resources, Office Setup and pr...       30.0 days   \n",
       "4             Formation of Project Steering Committee       25.0 days   \n",
       "..                                                ...             ...   \n",
       "73         Environmental and social impact assessment      110.0 days   \n",
       "74             Cost-benefit and efficiency evaluation      140.0 days   \n",
       "75                                          Reporting           1 day   \n",
       "76                     Draft final report preparation           1 day   \n",
       "77            Final report preparation and submission           1 day   \n",
       "\n",
       "                    Start Date                    End Date  Date Error  \\\n",
       "0   2025-01-26 18:40:11.862990  2025-01-27 18:40:11.862990       False   \n",
       "1   2025-07-01 00:00:00.000000  2025-07-01 00:00:00.000000       False   \n",
       "2   2025-07-02 00:00:00.000000  2025-09-09 00:00:00.000000       False   \n",
       "3   2025-09-10 00:00:00.000000  2025-10-09 00:00:00.000000       False   \n",
       "4   2025-10-10 00:00:00.000000  2025-11-03 00:00:00.000000       False   \n",
       "..                         ...                         ...         ...   \n",
       "73  2033-08-23 00:00:00.000000  2033-12-12 00:00:00.000000       False   \n",
       "74  2033-12-13 00:00:00.000000  2034-04-30 00:00:00.000000       False   \n",
       "75  2025-01-26 18:40:11.862990  2025-01-27 18:40:11.862990       False   \n",
       "76  2034-05-01 00:00:00.000000  2034-10-30 00:00:00.000000       False   \n",
       "77  2034-11-01 00:00:00.000000  2035-06-30 00:00:00.000000       False   \n",
       "\n",
       "                                            Task Name  \n",
       "0                       0 - Commencing of the project  \n",
       "1                        0 - Signing of the Agreement  \n",
       "2                       0 - Scheduling of the Project  \n",
       "3   0 - Mobilization of Resources, Office Setup an...  \n",
       "4         0 - Formation of Project Steering Committee  \n",
       "..                                                ...  \n",
       "73     6 - Environmental and social impact assessment  \n",
       "74         6 - Cost-benefit and efficiency evaluation  \n",
       "75                                      6 - Reporting  \n",
       "76                 6 - Draft final report preparation  \n",
       "77        6 - Final report preparation and submission  \n",
       "\n",
       "[78 rows x 6 columns]"
      ]
     },
     "execution_count": 12,
     "metadata": {},
     "output_type": "execute_result"
    }
   ],
   "source": [
    "df2 = pd.read_csv(\"C:/Users/USER/Downloads/rebuilt_tasks.csv\")\n",
    "df2"
   ]
  },
  {
   "cell_type": "code",
   "execution_count": null,
   "metadata": {},
   "outputs": [],
   "source": []
  }
 ],
 "metadata": {
  "kernelspec": {
   "display_name": "base",
   "language": "python",
   "name": "python3"
  },
  "language_info": {
   "codemirror_mode": {
    "name": "ipython",
    "version": 3
   },
   "file_extension": ".py",
   "mimetype": "text/x-python",
   "name": "python",
   "nbconvert_exporter": "python",
   "pygments_lexer": "ipython3",
   "version": "3.12.7"
  }
 },
 "nbformat": 4,
 "nbformat_minor": 2
}
